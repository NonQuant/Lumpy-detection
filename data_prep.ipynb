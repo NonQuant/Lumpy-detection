{
 "cells": [
  {
   "cell_type": "code",
   "execution_count": 8,
   "metadata": {},
   "outputs": [],
   "source": [
    "import cv2\n",
    "import pandas\n",
    "import pickle\n",
    "import numpy\n",
    "import os"
   ]
  },
  {
   "cell_type": "code",
   "execution_count": 9,
   "metadata": {},
   "outputs": [
    {
     "data": {
      "text/plain": [
       "'d:\\\\Projects\\\\Machine Learning\\\\Lummm'"
      ]
     },
     "execution_count": 9,
     "metadata": {},
     "output_type": "execute_result"
    }
   ],
   "source": [
    "os.getcwd()"
   ]
  },
  {
   "cell_type": "code",
   "execution_count": 10,
   "metadata": {},
   "outputs": [],
   "source": [
    "healthycows, lumpycows = [], []\n",
    "healthy_path = \"data/total_healthy/\"\n",
    "lumpy_path = \"data/total_lumpy/\"\n",
    "SIZE = (225, 225)\n",
    "for filename in os.listdir(healthy_path):\n",
    "    img = cv2.imread(os.path.join(healthy_path, filename))\n",
    "    img = cv2.resize(img, SIZE)\n",
    "    cv2.imwrite(os.path.join(\"resized_data\", \"healthycows\", filename), img)"
   ]
  },
  {
   "cell_type": "code",
   "execution_count": 11,
   "metadata": {},
   "outputs": [],
   "source": [
    "for filename in os.listdir(lumpy_path):\n",
    "    img = cv2.imread(os.path.join(lumpy_path, filename))\n",
    "    img = cv2.resize(img, SIZE)\n",
    "    cv2.imwrite(os.path.join(\"resized_data\", \"lumpycows\", filename), img)"
   ]
  },
  {
   "cell_type": "code",
   "execution_count": null,
   "metadata": {},
   "outputs": [],
   "source": []
  }
 ],
 "metadata": {
  "kernelspec": {
   "display_name": "Python 3",
   "language": "python",
   "name": "python3"
  },
  "language_info": {
   "codemirror_mode": {
    "name": "ipython",
    "version": 3
   },
   "file_extension": ".py",
   "mimetype": "text/x-python",
   "name": "python",
   "nbconvert_exporter": "python",
   "pygments_lexer": "ipython3",
   "version": "3.9.7"
  },
  "orig_nbformat": 4
 },
 "nbformat": 4,
 "nbformat_minor": 2
}

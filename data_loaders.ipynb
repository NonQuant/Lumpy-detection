{
 "cells": [
  {
   "cell_type": "code",
   "execution_count": 1,
   "metadata": {},
   "outputs": [],
   "source": [
    "import pickle\n",
    "import matplotlib.pyplot as plt\n",
    "import numpy as np\n",
    "import pandas as pd\n",
    "import torch\n",
    "from torch.utils.data import Dataset, DataLoader\n",
    "from torchvision import transforms\n",
    "from sklearn.model_selection import train_test_split\n",
    "import cv2\n",
    "import os"
   ]
  },
  {
   "cell_type": "code",
   "execution_count": 2,
   "metadata": {},
   "outputs": [],
   "source": [
    "data = []\n",
    "labels = []\n",
    "for filename in os.listdir(\"resized_data/healthycows/\"):\n",
    "    img = cv2.imread(\"resized_data/healthycows/\" + filename)\n",
    "    data.append(img)\n",
    "    labels.append(0)\n",
    "for filename in os.listdir(\"resized_data/lumpycows/\"):\n",
    "    img = cv2.imread(\"resized_data/lumpycows/\" + filename)\n",
    "    data.append(img)\n",
    "    labels.append(1)"
   ]
  },
  {
   "cell_type": "code",
   "execution_count": 3,
   "metadata": {},
   "outputs": [],
   "source": [
    "X_train, X_test_val, y_train, y_test_val = train_test_split(data, labels, test_size=.2, shuffle=True)\n",
    "X_test, X_val, y_test, y_val = train_test_split(X_test_val, y_test_val, test_size=.5, shuffle=True)"
   ]
  },
  {
   "cell_type": "code",
   "execution_count": 4,
   "metadata": {},
   "outputs": [],
   "source": [
    "class LumpyDataset(Dataset):\n",
    "    def __init__(self, images, labels) -> None:\n",
    "        self.X = images\n",
    "        self.y = labels\n",
    "        # function for images transformations\n",
    "        # TODO: try AutoAugment(AutoAugmentPolicy.IMAGENET)\n",
    "        self.random_transform = transforms.Compose([\n",
    "            transforms.ToPILImage(),\n",
    "            # transforms.RandomHorizontalFlip(),\n",
    "            # transforms.ColorJitter(\n",
    "            #     brightness=0.3, contrast=0.3),\n",
    "            transforms.ToTensor(),\n",
    "            transforms.Normalize([0.485, 0.456, 0.406], [0.229, 0.224, 0.225])\n",
    "        ])\n",
    "\n",
    "    def __len__(self):\n",
    "        return len(self.X)\n",
    "\n",
    "    def __getitem__(self, index):\n",
    "        num_augment = 3\n",
    "        augmented_batch = []\n",
    "        # creating augmented data\n",
    "        for i in range(num_augment):\n",
    "            new_item = self.random_transform(self.X[index])\n",
    "            augmented_batch.append(new_item)\n",
    "        # labels with one-hot encoding\n",
    "        label = torch.Tensor([self.y[index]])\n",
    "\n",
    "        new_labels = [label, label, label]\n",
    "\n",
    "        return torch.stack(augmented_batch), torch.stack(new_labels)"
   ]
  },
  {
   "cell_type": "code",
   "execution_count": 5,
   "metadata": {},
   "outputs": [
    {
     "name": "stdout",
     "output_type": "stream",
     "text": [
      "koten torch.Size([16, 3, 3, 225, 225]) torch.Size([16, 3, 1])\n",
      "koten torch.Size([16, 3, 3, 225, 225]) torch.Size([16, 3, 1])\n",
      "koten torch.Size([16, 3, 3, 225, 225]) torch.Size([16, 3, 1])\n",
      "koten torch.Size([16, 3, 3, 225, 225]) torch.Size([16, 3, 1])\n",
      "koten torch.Size([16, 3, 3, 225, 225]) torch.Size([16, 3, 1])\n"
     ]
    }
   ],
   "source": [
    "# testing our dataset class\n",
    "koten_set = LumpyDataset(X_val, y_val)\n",
    "koten_loader = DataLoader(koten_set, batch_size=16, shuffle=True, drop_last=True)\n",
    "for X, y in koten_loader:\n",
    "    print(\"koten\", X.shape, y.shape)\n",
    "# koten_set[5]"
   ]
  },
  {
   "cell_type": "code",
   "execution_count": 6,
   "metadata": {},
   "outputs": [],
   "source": [
    "# creating datasets from numpy arrays\n",
    "train_set = LumpyDataset(X_train, y_train)\n",
    "valid_set = LumpyDataset(X_val, y_val)\n",
    "test_set = LumpyDataset(X_test, y_test)"
   ]
  },
  {
   "cell_type": "code",
   "execution_count": 7,
   "metadata": {},
   "outputs": [],
   "source": [
    "# creating data loaders from datasets\n",
    "train_loader = DataLoader(train_set, batch_size=8, shuffle=True, pin_memory=True, drop_last=True)\n",
    "valid_loader = DataLoader(valid_set, batch_size=8, shuffle=True, pin_memory=True, drop_last=True)\n",
    "test_loader = DataLoader(test_set, batch_size=8, shuffle=True, pin_memory=True, drop_last=True)"
   ]
  },
  {
   "cell_type": "code",
   "execution_count": 8,
   "metadata": {},
   "outputs": [
    {
     "data": {
      "text/plain": [
       "(torch.Size([8, 3, 3, 225, 225]), torch.Size([8, 3, 1]))"
      ]
     },
     "execution_count": 8,
     "metadata": {},
     "output_type": "execute_result"
    }
   ],
   "source": [
    "# testing data loader\n",
    "X,y = next(iter(test_loader))\n",
    "X.shape, y.shape"
   ]
  },
  {
   "cell_type": "code",
   "execution_count": 9,
   "metadata": {},
   "outputs": [],
   "source": [
    "# saving all data loaders\n",
    "with open(\"variables/train_loader.pickle\", \"wb\") as f:\n",
    "    pickle.dump(train_loader, f)\n",
    "with open(\"variables/valid_loader.pickle\", \"wb\") as f:\n",
    "    pickle.dump(valid_loader, f)\n",
    "with open(\"variables/test_loader.pickle\", \"wb\") as f:\n",
    "    pickle.dump(test_loader, f)"
   ]
  }
 ],
 "metadata": {
  "kernelspec": {
   "display_name": "Python 3",
   "language": "python",
   "name": "python3"
  },
  "language_info": {
   "codemirror_mode": {
    "name": "ipython",
    "version": 3
   },
   "file_extension": ".py",
   "mimetype": "text/x-python",
   "name": "python",
   "nbconvert_exporter": "python",
   "pygments_lexer": "ipython3",
   "version": "3.9.7"
  },
  "orig_nbformat": 4
 },
 "nbformat": 4,
 "nbformat_minor": 2
}
